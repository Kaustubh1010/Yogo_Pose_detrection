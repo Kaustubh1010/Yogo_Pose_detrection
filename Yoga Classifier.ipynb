{
 "cells": [
  {
   "cell_type": "code",
   "execution_count": 1,
   "id": "3a428ff2",
   "metadata": {},
   "outputs": [
    {
     "name": "stderr",
     "output_type": "stream",
     "text": [
      "C:\\Users\\kaust\\anaconda3\\lib\\site-packages\\scipy\\__init__.py:138: UserWarning: A NumPy version >=1.16.5 and <1.23.0 is required for this version of SciPy (detected version 1.24.4)\n",
      "  warnings.warn(f\"A NumPy version >={np_minversion} and <{np_maxversion} is required for this version of \"\n"
     ]
    }
   ],
   "source": [
    "# importing the required libraries\n",
    "import numpy as np\n",
    "import pandas as pd\n",
    "import matplotlib.pyplot as plt\n",
    "from PIL import Image, ImageFile\n",
    "\n",
    "from tensorflow.keras.models import Sequential\n",
    "from tensorflow.keras.layers import Dense, Flatten, Conv2D, MaxPooling2D, Dropout"
   ]
  },
  {
   "cell_type": "code",
   "execution_count": 2,
   "id": "1bbc4c7a",
   "metadata": {},
   "outputs": [],
   "source": [
    "# importing os module to check no. of images present inside the folder\n",
    "import os\n",
    "\n",
    "train_tree_dir = \"D:/Kaustubh/Master In Data Science/Sukhumal das/computer vision/Yoga_dataset/TRAIN/tree\"\n",
    "train_downdog_dir = \"D:/Kaustubh/Master In Data Science/Sukhumal das/computer vision/Yoga_dataset/TRAIN/downdog\"\n",
    "\n",
    "\n",
    "test_tree_dir = \"D:/Kaustubh/Master In Data Science/Sukhumal das/computer vision/Yoga_dataset/TEST/tree\"\n",
    "test_downdog_dir = \"D:/Kaustubh/Master In Data Science/Sukhumal das/computer vision/Yoga_dataset/TEST/downdog\""
   ]
  },
  {
   "cell_type": "code",
   "execution_count": 3,
   "id": "316363e7",
   "metadata": {},
   "outputs": [
    {
     "name": "stdout",
     "output_type": "stream",
     "text": [
      "total train tree images: 160\n",
      "total train downdog images: 223\n",
      "total test tree images: 69\n",
      "total test downdog images: 97\n"
     ]
    }
   ],
   "source": [
    "print('total train tree images:', len(os.listdir(train_tree_dir)))\n",
    "print('total train downdog images:', len(os.listdir(train_downdog_dir)))\n",
    "\n",
    "print('total test tree images:', len(os.listdir(test_tree_dir)))\n",
    "print('total test downdog images:', len(os.listdir(test_downdog_dir)))"
   ]
  },
  {
   "cell_type": "code",
   "execution_count": 4,
   "id": "10c660af",
   "metadata": {},
   "outputs": [],
   "source": [
    "# ImageDataGenerator is used for augmentation (scaling,rotate,flip,shift and so on) of all images inside a folder\n",
    "\n",
    "from tensorflow.keras.preprocessing.image import ImageDataGenerator\n",
    "\n",
    "train_dir = \"D:/Kaustubh/Master In Data Science/Sukhumal das/computer vision/Yoga_dataset/TRAIN\"\n",
    "test_dir = \"D:/Kaustubh/Master In Data Science/Sukhumal das/computer vision/Yoga_dataset/TEST\""
   ]
  },
  {
   "cell_type": "code",
   "execution_count": 5,
   "id": "aa58fb34",
   "metadata": {},
   "outputs": [],
   "source": [
    "# Preventing errors with truncated images\n",
    "ImageFile.LOAD_TRUNCATED_IMAGES = True\n",
    "\n",
    "# Function to remove corrupted images\n",
    "def removeCorruptedImages(path):\n",
    "    for filename in os.listdir(path):\n",
    "        try:\n",
    "            img = Image.open(os.path.join(path,filename))\n",
    "            img.verify()\n",
    "        except (IOError, SyntaxError) as e:\n",
    "            print('Bad file:', filename)\n",
    "            os.remove(os.path.join(path,filename))"
   ]
  },
  {
   "cell_type": "code",
   "execution_count": 6,
   "id": "2bc28a06",
   "metadata": {},
   "outputs": [],
   "source": [
    "# Removing corrupted images\n",
    "classes = ['downdog','tree']\n",
    "for cls in classes:\n",
    "    removeCorruptedImages(os.path.join(train_dir, cls))\n",
    "    removeCorruptedImages(os.path.join(test_dir, cls))"
   ]
  },
  {
   "cell_type": "code",
   "execution_count": 7,
   "id": "c1fe6688",
   "metadata": {},
   "outputs": [
    {
     "name": "stdout",
     "output_type": "stream",
     "text": [
      "Found 383 images belonging to 2 classes.\n",
      "Found 166 images belonging to 2 classes.\n"
     ]
    }
   ],
   "source": [
    "# In model1 we use only scaling in generator now we will Use more augmentation\n",
    "train_datagen_augment = ImageDataGenerator(\n",
    "      rescale=1./255,\n",
    "      rotation_range=40,\n",
    "      width_shift_range=0.2,\n",
    "      height_shift_range=0.2,\n",
    "      shear_range=0.2,\n",
    "      zoom_range=0.2,\n",
    "      horizontal_flip=True,\n",
    "      fill_mode='nearest')\n",
    "test_datagen = ImageDataGenerator(rescale=1./255)\n",
    "\n",
    "train_generator_augment = train_datagen_augment.flow_from_directory(train_dir,\n",
    "                                                                    target_size=(224, 224),\n",
    "                                                                    batch_size=4,\n",
    "                                                                    class_mode='categorical')\n",
    "test_generator = test_datagen.flow_from_directory(test_dir,\n",
    "                                                  target_size=(224, 224),\n",
    "                                                  batch_size=4,\n",
    "                                                  class_mode='categorical')"
   ]
  },
  {
   "cell_type": "code",
   "execution_count": 8,
   "id": "baf616ed",
   "metadata": {},
   "outputs": [],
   "source": [
    "# let's define a function for prediction new image\n",
    "from tensorflow.keras.models import load_model\n",
    "from tensorflow.keras.preprocessing import image\n",
    "from tensorflow.keras.applications.vgg16 import preprocess_input\n",
    "import numpy as np\n",
    "\n",
    "model=load_model(\"model_vgg16.h5\")\n",
    "def pred(img_path):\n",
    "  img = image.load_img(img_path,target_size=(224,224))\n",
    "  x=image.img_to_array(img)\n",
    "  x=np.expand_dims(x,axis=0)\n",
    "  img_data=preprocess_input(x)\n",
    "  model.predict(img_data)\n",
    "  classes = list(train_generator_augment.class_indices.keys())\n",
    "  print(f\"Prediction is : {classes[np.argmax(model.predict(img_data))]}\")\n",
    "  plt.imshow(img)\n",
    "  plt.show()\n"
   ]
  },
  {
   "cell_type": "code",
   "execution_count": 9,
   "id": "980de5ae",
   "metadata": {},
   "outputs": [
    {
     "name": "stdout",
     "output_type": "stream",
     "text": [
      "1/1 [==============================] - 0s 476ms/step\n",
      "1/1 [==============================] - 0s 274ms/step\n",
      "Prediction is : tree\n"
     ]
    },
    {
     "data": {
      "image/png": "[encoded data removed]",
      "text/plain": [
       "<Figure size 432x288 with 1 Axes>"
      ]
     },
     "metadata": {
      "needs_background": "light"
     },
     "output_type": "display_data"
    }
   ],
   "source": [
    "pred(\"00000004.jpg\")"
   ]
  },
  {
   "cell_type": "code",
   "execution_count": 10,
   "id": "20cf8932",
   "metadata": {},
   "outputs": [],
   "source": [
    "from tensorflow.keras.preprocessing.image import img_to_array, load_img\n",
    "import cv2"
   ]
  },
  {
   "cell_type": "code",
   "execution_count": 27,
   "id": "0c5f7546",
   "metadata": {
    "scrolled": true
   },
   "outputs": [
    {
     "name": "stdout",
     "output_type": "stream",
     "text": [
      "1/1 [==============================] - 0s 294ms/step\n",
      "1/1 [==============================] - 0s 295ms/step\n",
      "Prediction is : downdog\n",
      "1/1 [==============================] - 0s 292ms/step\n",
      "1/1 [==============================] - 0s 289ms/step\n",
      "1/1 [==============================] - 0s 284ms/step\n",
      "Prediction is : tree\n",
      "1/1 [==============================] - 0s 293ms/step\n",
      "1/1 [==============================] - 0s 278ms/step\n",
      "1/1 [==============================] - 0s 270ms/step\n",
      "Prediction is : downdog\n",
      "1/1 [==============================] - 0s 274ms/step\n",
      "1/1 [==============================] - 0s 288ms/step\n",
      "1/1 [==============================] - 0s 282ms/step\n",
      "Prediction is : downdog\n",
      "1/1 [==============================] - 0s 282ms/step\n",
      "1/1 [==============================] - 0s 280ms/step\n",
      "1/1 [==============================] - 0s 277ms/step\n",
      "Prediction is : downdog\n",
      "1/1 [==============================] - 0s 285ms/step\n",
      "1/1 [==============================] - 0s 270ms/step\n",
      "1/1 [==============================] - 0s 270ms/step\n",
      "Prediction is : downdog\n",
      "1/1 [==============================] - 0s 286ms/step\n",
      "1/1 [==============================] - 0s 268ms/step\n",
      "1/1 [==============================] - 0s 281ms/step\n",
      "Prediction is : downdog\n",
      "1/1 [==============================] - 0s 283ms/step\n",
      "1/1 [==============================] - 0s 278ms/step\n",
      "1/1 [==============================] - 0s 276ms/step\n",
      "Prediction is : downdog\n",
      "1/1 [==============================] - 0s 283ms/step\n",
      "1/1 [==============================] - 0s 275ms/step\n",
      "1/1 [==============================] - 0s 264ms/step\n",
      "Prediction is : downdog\n",
      "1/1 [==============================] - 0s 271ms/step\n",
      "1/1 [==============================] - 0s 276ms/step\n",
      "1/1 [==============================] - 0s 278ms/step\n",
      "Prediction is : downdog\n",
      "1/1 [==============================] - 0s 282ms/step\n",
      "1/1 [==============================] - 0s 277ms/step\n",
      "1/1 [==============================] - 0s 275ms/step\n",
      "Prediction is : downdog\n",
      "1/1 [==============================] - 0s 280ms/step\n",
      "1/1 [==============================] - 0s 271ms/step\n",
      "1/1 [==============================] - 0s 271ms/step\n",
      "Prediction is : tree\n",
      "1/1 [==============================] - 0s 286ms/step\n",
      "1/1 [==============================] - 0s 282ms/step\n",
      "1/1 [==============================] - 0s 266ms/step\n",
      "Prediction is : tree\n",
      "1/1 [==============================] - 0s 283ms/step\n",
      "1/1 [==============================] - 0s 278ms/step\n",
      "1/1 [==============================] - 0s 276ms/step\n",
      "Prediction is : tree\n",
      "1/1 [==============================] - 0s 281ms/step\n",
      "1/1 [==============================] - 0s 271ms/step\n",
      "1/1 [==============================] - 0s 277ms/step\n",
      "Prediction is : tree\n",
      "1/1 [==============================] - 0s 290ms/step\n",
      "1/1 [==============================] - 0s 267ms/step\n",
      "1/1 [==============================] - 0s 284ms/step\n",
      "Prediction is : tree\n",
      "1/1 [==============================] - 0s 285ms/step\n",
      "1/1 [==============================] - 0s 281ms/step\n",
      "1/1 [==============================] - 0s 282ms/step\n",
      "Prediction is : tree\n",
      "1/1 [==============================] - 0s 285ms/step\n",
      "1/1 [==============================] - 0s 271ms/step\n",
      "1/1 [==============================] - 0s 284ms/step\n",
      "Prediction is : tree\n",
      "1/1 [==============================] - 0s 289ms/step\n",
      "1/1 [==============================] - 0s 275ms/step\n",
      "1/1 [==============================] - 0s 279ms/step\n",
      "Prediction is : tree\n",
      "1/1 [==============================] - 0s 279ms/step\n",
      "1/1 [==============================] - 0s 282ms/step\n",
      "1/1 [==============================] - 0s 282ms/step\n",
      "Prediction is : tree\n",
      "1/1 [==============================] - 0s 284ms/step\n",
      "1/1 [==============================] - 0s 270ms/step\n",
      "1/1 [==============================] - 0s 284ms/step\n",
      "Prediction is : tree\n",
      "1/1 [==============================] - 0s 284ms/step\n",
      "1/1 [==============================] - 0s 267ms/step\n",
      "1/1 [==============================] - 0s 289ms/step\n",
      "Prediction is : downdog\n",
      "1/1 [==============================] - 0s 278ms/step\n",
      "1/1 [==============================] - 0s 279ms/step\n",
      "1/1 [==============================] - 0s 284ms/step\n",
      "Prediction is : downdog\n",
      "1/1 [==============================] - 0s 285ms/step\n",
      "1/1 [==============================] - 0s 272ms/step\n",
      "1/1 [==============================] - 0s 278ms/step\n",
      "Prediction is : downdog\n",
      "1/1 [==============================] - 0s 272ms/step\n"
     ]
    }
   ],
   "source": [
    "filename = \"webcam_output.avi\"\n",
    "# Define video codec (FourCC). You can find more options here: https://simple.wikipedia.org/wiki/FourCC\n",
    "fourcc = cv2.VideoWriter_fourcc(*'XVID')\n",
    "\n",
    "cap = cv2.VideoCapture(0)\n",
    "\n",
    "# Create video writer object\n",
    "output = cv2.VideoWriter(filename, fourcc, 1.0, (224, 224))\n",
    "\n",
    "while True:\n",
    "    flag, frame = cap.read()\n",
    "    frame = cv2.resize(frame, (224, 224))\n",
    "    x = image.img_to_array(frame)\n",
    "    x = np.expand_dims(x,axis=0)\n",
    "    img_data=preprocess_input(x)\n",
    "    yoga_pose = model.predict(img_data)\n",
    "    \n",
    "    classes = list(train_generator_augment.class_indices.keys())\n",
    "    print(f\"Prediction is : {classes[np.argmax(model.predict(img_data))]}\")\n",
    "    \n",
    "    cv2.putText(frame,f\"Prediction is : {classes[np.argmax(model.predict(img_data))]}\",(50,50),cv2.FONT_HERSHEY_SIMPLEX,0.5,(0,255,0),3)\n",
    "        \n",
    "    cv2.imshow(\"Yoga pose\",frame)\n",
    "    output.write(frame)\n",
    "    \n",
    "    if cv2.waitKey(1) & 0xFF == ord('q'):\n",
    "        break\n",
    "cap.release()\n",
    "output.release()\n",
    "cv2.destroyAllWindows()"
   ]
  },
  {
   "cell_type": "code",
   "execution_count": null,
   "id": "022f9670",
   "metadata": {},
   "outputs": [],
   "source": []
  },
  {
   "cell_type": "code",
   "execution_count": null,
   "id": "e51cd035",
   "metadata": {},
   "outputs": [],
   "source": []
  }
 ],
 "metadata": {
  "kernelspec": {
   "display_name": "Python 3",
   "language": "python",
   "name": "python3"
  },
  "language_info": {
   "codemirror_mode": {
    "name": "ipython",
    "version": 3
   },
   "file_extension": ".py",
   "mimetype": "text/x-python",
   "name": "python",
   "nbconvert_exporter": "python",
   "pygments_lexer": "ipython3",
   "version": "3.8.8"
  }
 },
 "nbformat": 4,
 "nbformat_minor": 5
}
